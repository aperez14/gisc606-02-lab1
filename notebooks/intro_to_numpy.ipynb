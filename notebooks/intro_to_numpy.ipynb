# Import numpy with alias np
import numpy as np

# Monthly avg precip for Jan through Mar in Boulder, CO
avg_monthly_precip = np.array([0.70, 0.75, 1.85])

print(avg_monthly_precip)
[0.7  0.75 1.85]

# Monthly precip for Jan through Mar in 2002 and 2013
precip_2002_2013 = np.array([
    [1.07, 0.44, 1.50],
    [0.27, 1.13, 1.72]
])

print(precip_2002_2013)
[[1.07 0.44 1.5 ]
 [0.27 1.13 1.72]]
